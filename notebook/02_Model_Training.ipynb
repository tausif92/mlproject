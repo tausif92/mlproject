{
 "cells": [
  {
   "cell_type": "markdown",
   "metadata": {},
   "source": [
    "#### 1.1 Import Data and Required Packages\n",
    "Importing Pandas, Numpy, Matplotlib, Seaborn and Warings Library."
   ]
  },
  {
   "cell_type": "code",
   "execution_count": 3,
   "metadata": {},
   "outputs": [],
   "source": [
    "import pandas as pd"
   ]
  },
  {
   "cell_type": "code",
   "execution_count": 4,
   "metadata": {},
   "outputs": [
    {
     "data": {
      "text/html": [
       "<div>\n",
       "<style scoped>\n",
       "    .dataframe tbody tr th:only-of-type {\n",
       "        vertical-align: middle;\n",
       "    }\n",
       "\n",
       "    .dataframe tbody tr th {\n",
       "        vertical-align: top;\n",
       "    }\n",
       "\n",
       "    .dataframe thead th {\n",
       "        text-align: right;\n",
       "    }\n",
       "</style>\n",
       "<table border=\"1\" class=\"dataframe\">\n",
       "  <thead>\n",
       "    <tr style=\"text-align: right;\">\n",
       "      <th></th>\n",
       "      <th>gender</th>\n",
       "      <th>race_ethnicity</th>\n",
       "      <th>parental_level_of_education</th>\n",
       "      <th>lunch</th>\n",
       "      <th>test_preparation_course</th>\n",
       "      <th>math_score</th>\n",
       "      <th>reading_score</th>\n",
       "      <th>writing_score</th>\n",
       "    </tr>\n",
       "  </thead>\n",
       "  <tbody>\n",
       "    <tr>\n",
       "      <th>0</th>\n",
       "      <td>female</td>\n",
       "      <td>group B</td>\n",
       "      <td>bachelor's degree</td>\n",
       "      <td>standard</td>\n",
       "      <td>none</td>\n",
       "      <td>72</td>\n",
       "      <td>72</td>\n",
       "      <td>74</td>\n",
       "    </tr>\n",
       "    <tr>\n",
       "      <th>1</th>\n",
       "      <td>female</td>\n",
       "      <td>group C</td>\n",
       "      <td>some college</td>\n",
       "      <td>standard</td>\n",
       "      <td>completed</td>\n",
       "      <td>69</td>\n",
       "      <td>90</td>\n",
       "      <td>88</td>\n",
       "    </tr>\n",
       "    <tr>\n",
       "      <th>2</th>\n",
       "      <td>female</td>\n",
       "      <td>group B</td>\n",
       "      <td>master's degree</td>\n",
       "      <td>standard</td>\n",
       "      <td>none</td>\n",
       "      <td>90</td>\n",
       "      <td>95</td>\n",
       "      <td>93</td>\n",
       "    </tr>\n",
       "    <tr>\n",
       "      <th>3</th>\n",
       "      <td>male</td>\n",
       "      <td>group A</td>\n",
       "      <td>associate's degree</td>\n",
       "      <td>free/reduced</td>\n",
       "      <td>none</td>\n",
       "      <td>47</td>\n",
       "      <td>57</td>\n",
       "      <td>44</td>\n",
       "    </tr>\n",
       "    <tr>\n",
       "      <th>4</th>\n",
       "      <td>male</td>\n",
       "      <td>group C</td>\n",
       "      <td>some college</td>\n",
       "      <td>standard</td>\n",
       "      <td>none</td>\n",
       "      <td>76</td>\n",
       "      <td>78</td>\n",
       "      <td>75</td>\n",
       "    </tr>\n",
       "  </tbody>\n",
       "</table>\n",
       "</div>"
      ],
      "text/plain": [
       "   gender race_ethnicity parental_level_of_education         lunch  \\\n",
       "0  female        group B           bachelor's degree      standard   \n",
       "1  female        group C                some college      standard   \n",
       "2  female        group B             master's degree      standard   \n",
       "3    male        group A          associate's degree  free/reduced   \n",
       "4    male        group C                some college      standard   \n",
       "\n",
       "  test_preparation_course  math_score  reading_score  writing_score  \n",
       "0                    none          72             72             74  \n",
       "1               completed          69             90             88  \n",
       "2                    none          90             95             93  \n",
       "3                    none          47             57             44  \n",
       "4                    none          76             78             75  "
      ]
     },
     "execution_count": 4,
     "metadata": {},
     "output_type": "execute_result"
    }
   ],
   "source": [
    "X = pd.read_csv('data/stud.csv')\n",
    "X.head()"
   ]
  },
  {
   "cell_type": "code",
   "execution_count": 5,
   "metadata": {},
   "outputs": [
    {
     "data": {
      "text/plain": [
       "0      72.666667\n",
       "1      82.333333\n",
       "2      92.666667\n",
       "3      49.333333\n",
       "4      76.333333\n",
       "         ...    \n",
       "995    94.000000\n",
       "996    57.333333\n",
       "997    65.000000\n",
       "998    74.333333\n",
       "999    83.000000\n",
       "Length: 1000, dtype: float64"
      ]
     },
     "execution_count": 5,
     "metadata": {},
     "output_type": "execute_result"
    }
   ],
   "source": [
    "y = (X['math_score'] + X['reading_score'] + X['writing_score'])/3\n",
    "y"
   ]
  },
  {
   "cell_type": "code",
   "execution_count": 6,
   "metadata": {},
   "outputs": [
    {
     "name": "stdout",
     "output_type": "stream",
     "text": [
      "Index(['math_score', 'reading_score', 'writing_score'], dtype='object')\n",
      "Index(['gender', 'race_ethnicity', 'parental_level_of_education', 'lunch',\n",
      "       'test_preparation_course'],\n",
      "      dtype='object')\n"
     ]
    }
   ],
   "source": [
    "# Create Column Transformer with 3 types of transformers\n",
    "num_features = X.select_dtypes(exclude='object').columns\n",
    "cat_features = X.select_dtypes(include='object').columns\n",
    "print(num_features)\n",
    "print(cat_features)\n",
    "\n",
    "from sklearn.preprocessing import StandardScaler\n",
    "from sklearn.preprocessing import OneHotEncoder\n",
    "from sklearn.compose import ColumnTransformer\n",
    "\n",
    "preprocessor = ColumnTransformer(\n",
    "    [\n",
    "        ('OneHotEncoder', OneHotEncoder(), cat_features),\n",
    "        ('StandardScaler', StandardScaler(), num_features)\n",
    "    ]\n",
    ")"
   ]
  },
  {
   "cell_type": "code",
   "execution_count": 7,
   "metadata": {},
   "outputs": [],
   "source": [
    "X = preprocessor.fit_transform(X)"
   ]
  },
  {
   "cell_type": "code",
   "execution_count": 8,
   "metadata": {},
   "outputs": [
    {
     "data": {
      "text/plain": [
       "(1000, 20)"
      ]
     },
     "execution_count": 8,
     "metadata": {},
     "output_type": "execute_result"
    }
   ],
   "source": [
    "X.shape"
   ]
  },
  {
   "cell_type": "code",
   "execution_count": 9,
   "metadata": {},
   "outputs": [
    {
     "data": {
      "text/plain": [
       "((800, 20), (200, 20))"
      ]
     },
     "execution_count": 9,
     "metadata": {},
     "output_type": "execute_result"
    }
   ],
   "source": [
    "# separate dataset into train and test\n",
    "from sklearn.model_selection import train_test_split\n",
    "X_train, X_test, y_train, y_test = train_test_split(X, y, test_size=0.2, random_state=42)\n",
    "X_train.shape, X_test.shape"
   ]
  },
  {
   "cell_type": "code",
   "execution_count": 10,
   "metadata": {},
   "outputs": [],
   "source": [
    "# Create an Evaluate Function to give all metrics after model Training\n",
    "from sklearn.metrics import root_mean_squared_error, mean_absolute_error, r2_score\n",
    "def evaluate_model(true, pred):\n",
    "    mae = mean_absolute_error(true, pred)\n",
    "    rmse = root_mean_squared_error(true, pred)\n",
    "    r2 = r2_score(true, pred)\n",
    "    return mae, rmse, r2\n"
   ]
  },
  {
   "cell_type": "code",
   "execution_count": 11,
   "metadata": {},
   "outputs": [
    {
     "name": "stdout",
     "output_type": "stream",
     "text": [
      "Model: Linear Regression\n",
      "Model performance for training set\n",
      "- MAE: 1.6266987756807795e-14\n",
      "- RMSE: 2.100950334747028e-14\n",
      "- R2: 1.0\n",
      "-----------------------------------\n",
      "Model performance for test set\n",
      "- MAE: 1.589839371263224e-14\n",
      "- RMSE: 2.1684653752922612e-14\n",
      "- R2: 1.0\n",
      "===================================\n",
      "\n",
      "\n",
      "Model: Ridge\n",
      "Model performance for training set\n",
      "- MAE: 0.006499357373329855\n",
      "- RMSE: 0.008023851967422982\n",
      "- R2: 0.9999996772003924\n",
      "-----------------------------------\n",
      "Model performance for test set\n",
      "- MAE: 0.006696634238846233\n",
      "- RMSE: 0.008812154315044587\n",
      "- R2: 0.99999963775105\n",
      "===================================\n",
      "\n",
      "\n",
      "Model: Lasso\n",
      "Model performance for training set\n",
      "- MAE: 0.8506012933972129\n",
      "- RMSE: 1.0644964050678285\n",
      "- R2: 0.9943185972010731\n",
      "-----------------------------------\n",
      "Model performance for test set\n",
      "- MAE: 0.8768807904727826\n",
      "- RMSE: 1.1141619571094954\n",
      "- R2: 0.9942091862272519\n",
      "===================================\n",
      "\n",
      "\n",
      "Model: Elastic Net\n",
      "Model performance for training set\n",
      "- MAE: 2.140694140202109\n",
      "- RMSE: 2.67648783836715\n",
      "- R2: 0.9640831921424444\n",
      "-----------------------------------\n",
      "Model performance for test set\n",
      "- MAE: 2.2016022800519566\n",
      "- RMSE: 2.800401729610468\n",
      "- R2: 0.9634166373555828\n",
      "===================================\n",
      "\n",
      "\n",
      "Model: SVR\n",
      "Model performance for training set\n",
      "- MAE: 0.8765394472937714\n",
      "- RMSE: 2.9036720990059326\n",
      "- R2: 0.9577270724105736\n",
      "-----------------------------------\n",
      "Model performance for test set\n",
      "- MAE: 1.4142376232274325\n",
      "- RMSE: 5.40137434190565\n",
      "- R2: 0.8639020756125526\n",
      "===================================\n",
      "\n",
      "\n",
      "Model: K Neighbor\n",
      "Model performance for training set\n",
      "- MAE: 1.7680000000000007\n",
      "- RMSE: 2.257294348944723\n",
      "- R2: 0.9744527845056637\n",
      "-----------------------------------\n",
      "Model performance for test set\n",
      "- MAE: 2.283333333333334\n",
      "- RMSE: 3.0706278764375794\n",
      "- R2: 0.9560157364920763\n",
      "===================================\n",
      "\n",
      "\n",
      "Model: Decision Tree\n",
      "Model performance for training set\n",
      "- MAE: 0.0\n",
      "- RMSE: 0.0\n",
      "- R2: 1.0\n",
      "-----------------------------------\n",
      "Model performance for test set\n",
      "- MAE: 1.07\n",
      "- RMSE: 1.5807874268505833\n",
      "- R2: 0.9883429168655083\n",
      "===================================\n",
      "\n",
      "\n",
      "Model: Random Forest\n",
      "Model performance for training set\n",
      "- MAE: 0.18326249999999866\n",
      "- RMSE: 0.27580022459905323\n",
      "- R2: 0.9996186213178764\n",
      "-----------------------------------\n",
      "Model performance for test set\n",
      "- MAE: 0.5204333333333309\n",
      "- RMSE: 1.1064959707713928\n",
      "- R2: 0.9942885994193436\n",
      "===================================\n",
      "\n",
      "\n",
      "Model: Adaboost\n",
      "Model performance for training set\n",
      "- MAE: 1.3059099757630679\n",
      "- RMSE: 1.7080983062990154\n",
      "- R2: 0.9853717320520242\n",
      "-----------------------------------\n",
      "Model performance for test set\n",
      "- MAE: 1.556932987466884\n",
      "- RMSE: 2.1989025092110164\n",
      "- R2: 0.9774443733451539\n",
      "===================================\n",
      "\n",
      "\n",
      "Model: Gradient Boost\n",
      "Model performance for training set\n",
      "- MAE: 0.3363733599395909\n",
      "- RMSE: 0.42597749252428907\n",
      "- R2: 0.999090211405056\n",
      "-----------------------------------\n",
      "Model performance for test set\n",
      "- MAE: 0.5497332753904741\n",
      "- RMSE: 0.9593581362936769\n",
      "- R2: 0.9957065691353633\n",
      "===================================\n",
      "\n",
      "\n",
      "Model: Xgboost\n",
      "Model performance for training set\n",
      "- MAE: 0.04059766610463452\n",
      "- RMSE: 0.05697658175461968\n",
      "- R2: 0.9999837235396709\n",
      "-----------------------------------\n",
      "Model performance for test set\n",
      "- MAE: 0.5534368165334067\n",
      "- RMSE: 1.0610514763688972\n",
      "- R2: 0.994748107165166\n",
      "===================================\n",
      "\n",
      "\n"
     ]
    }
   ],
   "source": [
    "from sklearn.linear_model import LinearRegression\n",
    "from sklearn.linear_model import Ridge\n",
    "from sklearn.linear_model import Lasso\n",
    "from sklearn.linear_model import ElasticNet\n",
    "from sklearn.svm import SVR\n",
    "from sklearn.neighbors import KNeighborsRegressor\n",
    "from sklearn.tree import DecisionTreeRegressor\n",
    "from sklearn.ensemble import RandomForestRegressor\n",
    "from sklearn.ensemble import AdaBoostRegressor\n",
    "from sklearn.ensemble import GradientBoostingRegressor\n",
    "from xgboost import XGBRegressor\n",
    "\n",
    "models = {\n",
    "    'Linear Regression': LinearRegression(),\n",
    "    'Ridge': Ridge(),\n",
    "    'Lasso': Lasso(),\n",
    "    'Elastic Net': ElasticNet(),\n",
    "    'SVR': SVR(),\n",
    "    'K Neighbor': KNeighborsRegressor(),\n",
    "    'Decision Tree': DecisionTreeRegressor(),\n",
    "    'Random Forest': RandomForestRegressor(),\n",
    "    'Adaboost': AdaBoostRegressor(),\n",
    "    'Gradient Boost': GradientBoostingRegressor(),\n",
    "    'Xgboost': XGBRegressor()\n",
    "}\n",
    "model_list = []\n",
    "r2_list = []\n",
    "\n",
    "for i in range(len(models)):\n",
    "    model = list(models.values())[i]\n",
    "    model.fit(X_train, y_train)\n",
    "\n",
    "    # Make predictions\n",
    "    y_train_pred = model.predict(X_train)\n",
    "    y_test_pred = model.predict(X_test)\n",
    "\n",
    "    # Evaluate results\n",
    "    mae_train, rmse_train, r2_train = evaluate_model(y_train, y_train_pred)\n",
    "    mae_test, rmse_test, r2_test = evaluate_model(y_test, y_test_pred)\n",
    "\n",
    "    # Print results\n",
    "    model_list.append(list(models.keys())[i])\n",
    "    print(f'Model: {list(models.keys())[i]}')\n",
    "    print('Model performance for training set')\n",
    "    print(f'- MAE: {mae_train}')\n",
    "    print(f'- RMSE: {rmse_train}')\n",
    "    print(f'- R2: {r2_train}')\n",
    "    print('-'*35)\n",
    "    print('Model performance for test set')\n",
    "    print(f'- MAE: {mae_test}')\n",
    "    print(f'- RMSE: {rmse_test}')\n",
    "    print(f'- R2: {r2_test}')\n",
    "    print('='*35)\n",
    "    print('\\n')\n",
    "    r2_list.append(r2_test)\n"
   ]
  },
  {
   "cell_type": "code",
   "execution_count": 12,
   "metadata": {},
   "outputs": [
    {
     "data": {
      "text/html": [
       "<div>\n",
       "<style scoped>\n",
       "    .dataframe tbody tr th:only-of-type {\n",
       "        vertical-align: middle;\n",
       "    }\n",
       "\n",
       "    .dataframe tbody tr th {\n",
       "        vertical-align: top;\n",
       "    }\n",
       "\n",
       "    .dataframe thead th {\n",
       "        text-align: right;\n",
       "    }\n",
       "</style>\n",
       "<table border=\"1\" class=\"dataframe\">\n",
       "  <thead>\n",
       "    <tr style=\"text-align: right;\">\n",
       "      <th></th>\n",
       "      <th>Model Name</th>\n",
       "      <th>R2 Score</th>\n",
       "    </tr>\n",
       "  </thead>\n",
       "  <tbody>\n",
       "    <tr>\n",
       "      <th>4</th>\n",
       "      <td>SVR</td>\n",
       "      <td>0.863902</td>\n",
       "    </tr>\n",
       "    <tr>\n",
       "      <th>5</th>\n",
       "      <td>K Neighbor</td>\n",
       "      <td>0.956016</td>\n",
       "    </tr>\n",
       "    <tr>\n",
       "      <th>3</th>\n",
       "      <td>Elastic Net</td>\n",
       "      <td>0.963417</td>\n",
       "    </tr>\n",
       "    <tr>\n",
       "      <th>8</th>\n",
       "      <td>Adaboost</td>\n",
       "      <td>0.977444</td>\n",
       "    </tr>\n",
       "    <tr>\n",
       "      <th>6</th>\n",
       "      <td>Decision Tree</td>\n",
       "      <td>0.988343</td>\n",
       "    </tr>\n",
       "    <tr>\n",
       "      <th>2</th>\n",
       "      <td>Lasso</td>\n",
       "      <td>0.994209</td>\n",
       "    </tr>\n",
       "    <tr>\n",
       "      <th>7</th>\n",
       "      <td>Random Forest</td>\n",
       "      <td>0.994289</td>\n",
       "    </tr>\n",
       "    <tr>\n",
       "      <th>10</th>\n",
       "      <td>Xgboost</td>\n",
       "      <td>0.994748</td>\n",
       "    </tr>\n",
       "    <tr>\n",
       "      <th>9</th>\n",
       "      <td>Gradient Boost</td>\n",
       "      <td>0.995707</td>\n",
       "    </tr>\n",
       "    <tr>\n",
       "      <th>1</th>\n",
       "      <td>Ridge</td>\n",
       "      <td>1.000000</td>\n",
       "    </tr>\n",
       "    <tr>\n",
       "      <th>0</th>\n",
       "      <td>Linear Regression</td>\n",
       "      <td>1.000000</td>\n",
       "    </tr>\n",
       "  </tbody>\n",
       "</table>\n",
       "</div>"
      ],
      "text/plain": [
       "           Model Name  R2 Score\n",
       "4                 SVR  0.863902\n",
       "5          K Neighbor  0.956016\n",
       "3         Elastic Net  0.963417\n",
       "8            Adaboost  0.977444\n",
       "6       Decision Tree  0.988343\n",
       "2               Lasso  0.994209\n",
       "7       Random Forest  0.994289\n",
       "10            Xgboost  0.994748\n",
       "9      Gradient Boost  0.995707\n",
       "1               Ridge  1.000000\n",
       "0   Linear Regression  1.000000"
      ]
     },
     "execution_count": 12,
     "metadata": {},
     "output_type": "execute_result"
    }
   ],
   "source": [
    "pd.DataFrame(list(zip(model_list, r2_list)), columns=['Model Name', 'R2 Score']).sort_values(by='R2 Score')"
   ]
  },
  {
   "cell_type": "markdown",
   "metadata": {},
   "source": [
    "### Linear Regression"
   ]
  },
  {
   "cell_type": "code",
   "execution_count": 13,
   "metadata": {},
   "outputs": [
    {
     "name": "stdout",
     "output_type": "stream",
     "text": [
      " Accuracy of the model is 100.00\n"
     ]
    }
   ],
   "source": [
    "lin_model = LinearRegression(fit_intercept=True)\n",
    "lin_model = lin_model.fit(X_train, y_train)\n",
    "y_pred = lin_model.predict(X_test)\n",
    "score = r2_score(y_test, y_pred)*100\n",
    "print(\" Accuracy of the model is %.2f\" %score)"
   ]
  },
  {
   "cell_type": "markdown",
   "metadata": {},
   "source": [
    "### Plot y_pred and y_test"
   ]
  },
  {
   "cell_type": "code",
   "execution_count": 14,
   "metadata": {},
   "outputs": [
    {
     "data": {
      "text/plain": [
       "Text(0, 0.5, 'Predicted')"
      ]
     },
     "execution_count": 14,
     "metadata": {},
     "output_type": "execute_result"
    },
    {
     "data": {
      "image/png": "[encoded data removed]",
      "text/plain": [
       "<Figure size 640x480 with 1 Axes>"
      ]
     },
     "metadata": {},
     "output_type": "display_data"
    }
   ],
   "source": [
    "import matplotlib.pyplot as plt\n",
    "plt.scatter(y_test,y_pred)\n",
    "plt.xlabel('Actual')\n",
    "plt.ylabel('Predicted')"
   ]
  }
 ],
 "metadata": {
  "kernelspec": {
   "display_name": "venv",
   "language": "python",
   "name": "python3"
  },
  "language_info": {
   "codemirror_mode": {
    "name": "ipython",
    "version": 3
   },
   "file_extension": ".py",
   "mimetype": "text/x-python",
   "name": "python",
   "nbconvert_exporter": "python",
   "pygments_lexer": "ipython3",
   "version": "3.13.0"
  }
 },
 "nbformat": 4,
 "nbformat_minor": 2
}
